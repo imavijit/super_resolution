{
 "cells": [
  {
   "cell_type": "code",
   "execution_count": 1,
   "metadata": {},
   "outputs": [],
   "source": [
    "import os\n",
    "import numpy as np\n",
    "import cv2\n",
    "import matplotlib.pyplot as plt\n",
    "import math\n",
    "%matplotlib inline\n"
   ]
  },
  {
   "cell_type": "code",
   "execution_count": 2,
   "metadata": {},
   "outputs": [
    {
     "name": "stdout",
     "output_type": "stream",
     "text": [
      "['.ipynb_checkpoints', '3051crop_weight_200.h5', 'images', 'output', 'source', 'Super_Resolution-Copy1.ipynb', 'Super_Resolution.ipynb', 'test_folder_image', 'test_image_processing.ipynb']\n"
     ]
    }
   ],
   "source": [
    "print(os.listdir())"
   ]
  },
  {
   "cell_type": "code",
   "execution_count": 3,
   "metadata": {},
   "outputs": [
    {
     "name": "stdout",
     "output_type": "stream",
     "text": [
      "(576, 720, 3)\n",
      "[[11 17  9]\n",
      " [11 17  9]\n",
      " [10 17  9]\n",
      " ...\n",
      " [ 9 15 10]\n",
      " [10 16  9]\n",
      " [11 16  9]]\n",
      "[11 16  9]\n",
      "11\n",
      "16\n",
      "9\n",
      "[[ 9 18  9]\n",
      " [ 9 18  9]\n",
      " [10 17  9]\n",
      " ...\n",
      " [10 17  9]\n",
      " [10 16 10]\n",
      " [10 16 10]]\n",
      "[10 16 10]\n"
     ]
    }
   ],
   "source": [
    "for file in os.listdir('test_folder_image/'):\n",
    "        \n",
    "        img=cv2.imread('test_folder_image/' + '/' + file )\n",
    "print(img.shape)\n",
    "print(img[0])#gives pixel value of first row for each small section(720 rectangle) in differnt 3 channel\n",
    "print(img[0,719]) #pixel value of last column of first row\n",
    "print(img[0,719,0]) #pixel value of last column of first row with first channel\n",
    "print(img[0,719,1]) #pixel value of last column of first row with second channel\n",
    "print(img[0,719,2]) #pixel value of last column of first row with third channel\n",
    "\n",
    "print(img[575])\n",
    "print(img[575,719])\n",
    "#img[>575, >719] show out of bound error"
   ]
  },
  {
   "cell_type": "code",
   "execution_count": 4,
   "metadata": {},
   "outputs": [],
   "source": [
    "# necessary image preprocessing functions\n",
    "def ModCrop(img, scale):\n",
    "    temp_size=img.shape\n",
    "    size=temp_size[0:2]\n",
    "    \n",
    "    #ensuring that dimension of our images are divisble by certain scale by subtracting the remainder from dimensions\n",
    "    size=size -np.mod(size, scale)\n",
    "    \n",
    "    #size[0] and size[1] respectively defines the dimensions after scaling and say the dimension after scaling  is 256 *256 px\n",
    "    # so  img[0:256,1:256] gives us all pixel information\n",
    "    \n",
    "    img= img[0:size[0], 1:size[1]]\n",
    "    \n",
    "    return img\n",
    "\n",
    " \n",
    "# function to crop an image\n",
    "def crop(image, border):\n",
    "    img=image[border:-border, border:-border]\n",
    "    return img\n",
    "    "
   ]
  },
  {
   "cell_type": "code",
   "execution_count": 5,
   "metadata": {},
   "outputs": [
    {
     "name": "stdout",
     "output_type": "stream",
     "text": [
      "[[ 14 124 126]\n",
      " [ 14 124 126]\n",
      " [ 14 124 126]\n",
      " ...\n",
      " [ 13 126 126]\n",
      " [ 13 125 126]\n",
      " [ 13 125 127]]\n",
      "14\n",
      "(576, 720, 3)\n",
      "[[14 14 14 ... 13 13 13]\n",
      " [14 14 14 ... 13 13 13]\n",
      " [14 14 14 ... 13 13 14]\n",
      " ...\n",
      " [14 14 14 ... 13 13 13]\n",
      " [14 14 14 ... 14 13 14]\n",
      " [14 14 14 ... 14 14 14]]\n"
     ]
    }
   ],
   "source": [
    "temp=cv2.cvtColor(img, cv2.COLOR_BGR2YCrCb)\n",
    "print(temp[0])\n",
    "print(temp[0,0,0])\n",
    "print(temp.shape)\n",
    "#taking only the pixel value of first channel \n",
    "print(temp[:,:,0])"
   ]
  },
  {
   "cell_type": "code",
   "execution_count": 6,
   "metadata": {},
   "outputs": [
    {
     "name": "stdout",
     "output_type": "stream",
     "text": [
      "0.0\n"
     ]
    }
   ],
   "source": [
    "#image slice\n",
    "Y=np.zeros((1,temp.shape[0],temp.shape[1],1), dtype=float)\n",
    "# print(Y)\n",
    "print(Y[0,575,719,0])\n",
    "#Y(>0,>575,>719,>0) gives out of bound error"
   ]
  },
  {
   "cell_type": "code",
   "execution_count": 7,
   "metadata": {},
   "outputs": [
    {
     "name": "stdout",
     "output_type": "stream",
     "text": [
      "14.0\n",
      "13.0\n",
      "14.0\n",
      "13.0\n",
      "14.0\n",
      "14.0\n"
     ]
    }
   ],
   "source": [
    "#the operation is same as flattening\n",
    "#we are taking only the the first channel pixel values i.e temp[:,:,0] as srcnn is desinged to work like this\n",
    "#dividing by 255 to normalize between 0 and 1\n",
    "Y[0,:,:,0]=temp[:,:,0].astype(float)\n",
    "# Y[0,:,:,0]=temp[:,:,0].astype(float) / 255\n",
    "\n",
    "\n",
    "print(Y[0,0,0,0]) #gives first value of first row\n",
    "print(Y[0,0,719,0])#gives last value of first row\n",
    "print(Y[0,1,0,0])#gives first value of second row\n",
    "print(Y[0,1,719,0])#gives last value of second row\n",
    "print(Y[0,575,0,0])#gives first value of last row i.e 576 th \n",
    "print(Y[0,575,719,0])#gives last value of last row i.e 576 th"
   ]
  },
  {
   "cell_type": "code",
   "execution_count": null,
   "metadata": {},
   "outputs": [],
   "source": []
  }
 ],
 "metadata": {
  "kernelspec": {
   "display_name": "Python 3",
   "language": "python",
   "name": "python3"
  },
  "language_info": {
   "codemirror_mode": {
    "name": "ipython",
    "version": 3
   },
   "file_extension": ".py",
   "mimetype": "text/x-python",
   "name": "python",
   "nbconvert_exporter": "python",
   "pygments_lexer": "ipython3",
   "version": "3.6.6"
  }
 },
 "nbformat": 4,
 "nbformat_minor": 2
}
